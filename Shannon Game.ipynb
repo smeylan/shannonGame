{
 "cells": [
  {
   "cell_type": "markdown",
   "metadata": {},
   "source": [
    "How can we guess consecutive letters in a message, following the game presented in Shannon (1952), \"There is no reverse on a motorcycle...\" "
   ]
  },
  {
   "cell_type": "code",
   "execution_count": 14,
   "metadata": {
    "collapsed": false
   },
   "outputs": [],
   "source": [
    "import sys, time, random, pdb, srilm, pandas"
   ]
  },
  {
   "cell_type": "markdown",
   "metadata": {},
   "source": [
    "Load the SRILM language models. Type-weighted has transitions computed over 25k types. Token-weighted takes the token frequencies in a corpus into account, e.g. the OPUS subtitle corpus. Utterance token model treats each utterance as a separate tokens (e.g., to take word-to-word dependencies into account). Lexical looks at the token probabilities in the language."
   ]
  },
  {
   "cell_type": "code",
   "execution_count": 2,
   "metadata": {
    "collapsed": false
   },
   "outputs": [],
   "source": [
    "modelStore = {}\n",
    "modelStore['typeModel'] = srilm.LM(\"/home/stephan/python/shannonGame/englishCharacterModel.LM\", lower=True)\n",
    "modelStore['tokenModel'] = srilm.LM(\"/shared_ssd/VoB/EnglishTokenSSmodel/opus_letterized.LM\", lower=True)\n",
    "modelStore['utterance_tokenModel'] = srilm.LM(\"/shared_ssd/VoB/EnglishTokenSSmodel/opus_utterance_letterized.LM\", lower=True)\n",
    "modelStore['lexModel'] = srilm.LM('/shared_hd0/corpora/BNC/SRILM/English.lm.KNN', lower=True) #this LM is much larger than the others"
   ]
  },
  {
   "cell_type": "code",
   "execution_count": 3,
   "metadata": {
    "collapsed": false
   },
   "outputs": [],
   "source": [
    "def getRankedContinuation(lm, preceding):\t\n",
    "    # get a ranked set of continuations along with their probabilities\n",
    "\tpreceding =  [x for x in preceding if x != ''] # remove padding\n",
    "\tcontext = [lm.vocab.intern(w) for w in preceding]\n",
    "\tbest_idx = None\n",
    "\tbest_logprob = -1e100\n",
    "\tcontinuations = []\t\n",
    "\tfor i in xrange(lm.vocab.max_interned() + 1):\t\t\n",
    "\t\tlogprob = lm.logprob(i, context)\n",
    "\t\tcontinuations.append({'word':lm.vocab.extern(i), 'prob':logprob})\n",
    "\tcontinuationsDF = pandas.DataFrame(continuations)\n",
    "\treturn(continuationsDF.sort(['prob'], ascending=False))"
   ]
  },
  {
   "cell_type": "code",
   "execution_count": 4,
   "metadata": {
    "collapsed": false
   },
   "outputs": [],
   "source": [
    "def shannonGame(target,modelStore,model, guessTime, showStrings):\t\n",
    "    #target is the string to guess\n",
    "    #model is the path to the LM from pysrim\n",
    "    #guessTime is an integger specifying how many ms to sleep between guesses (for a live demo)\n",
    "    #showStrings is a boolean specifying whether progress should be displayed\n",
    "    #!!!this needs to be refactored.\n",
    "\tphraseToGuess = list(target)\n",
    "\tnumGuesses = 0\n",
    "\tletters = list('abcdefghijklmnopqrstuvwxyz')\n",
    "\n",
    "\tif model == 'uniformCharacterProb':\n",
    "\t\t#Guess each letter with equal probability\n",
    "\t\tcorrectString = ''\n",
    "\t\tfor letter in phraseToGuess:\t\n",
    "\t\t\tif letter in (' ','.'):\n",
    "\t\t\t\t#write spaces and punctuation immediately\n",
    "\t\t\t\tcorrectString = correctString + letter\t\t\n",
    "\t\t\t\tcontinue\n",
    "\t\t\telse:\t\t\t\n",
    "\t\t\t\trandom.shuffle(letters)\n",
    "\t\t\t\tfor guess in letters:\n",
    "\t\t\t\t\tnumGuesses += 1\n",
    "\t\t\t\t\tif showStrings:\n",
    "\t\t\t\t\t\tprint(correctString + guess)\n",
    "\t\t\t\t\ttime.sleep(guessTime)\t\t\t\n",
    "\t\t\t\t\tif guess == letter:\n",
    "\t\t\t\t\t\tcorrectString = correctString + letter\n",
    "\t\t\t\t\t\tbreak\n",
    "\n",
    "\telif model == 'uniphoneCharacterProb':\t\t\t\t\t\n",
    "\t\t#Guess each letter with probability in proportion to types in language\n",
    "\t\tuniphoneModel = getRankedContinuation(modelStore['typeModel'],[])\n",
    "\t\tletterDF = pandas.DataFrame(list('abcdefghijklmnopqrstuvwxyz'), columns=['word'])\n",
    "\t\tletters = letterDF.merge(uniphoneModel).sort(['prob'], ascending=False)['word']\n",
    "\n",
    "\t\tcorrectString = ''\n",
    "\t\tfor letter in phraseToGuess:\t\n",
    "\t\t\tif letter in (' ','.'):\n",
    "\t\t\t\t#write spaces and punctuation immediately\n",
    "\t\t\t\tcorrectString = correctString + letter\t\t\n",
    "\t\t\t\tcontinue\n",
    "\t\t\telse:\t\t\t\n",
    "\t\t\t\tfor guess in letters:\n",
    "\t\t\t\t\tnumGuesses += 1\n",
    "\t\t\t\t\tif showStrings:\n",
    "\t\t\t\t\t\tprint(correctString + guess)\n",
    "\t\t\t\t\ttime.sleep(guessTime)\t\t\t\n",
    "\t\t\t\t\tif guess == letter:\n",
    "\t\t\t\t\t\tcorrectString = correctString + letter\n",
    "\t\t\t\t\t\tbreak\n",
    "\telif model == 'fivephoneCharacterProb':\t\t\t\t\t\n",
    "\t\t#Guess each letter with probability according to phone transitions in the language (still type-based)\n",
    "\t\tletterDF = pandas.DataFrame(list('abcdefghijklmnopqrstuvwxyz'), columns=['word'])\n",
    "\t\tcorrectString = ''\n",
    "\t\tcachedWord = []\n",
    "\t\tfor letter in phraseToGuess:\t\n",
    "\t\t\tif letter in (' ','.'):\n",
    "\t\t\t\t#write spaces and punctuation immediately\n",
    "\t\t\t\tcorrectString = correctString + letter\t\t\n",
    "\t\t\t\tcachedWord = [] #restart the cached word\n",
    "\t\t\t\tcontinue\n",
    "\t\t\telse:\t\n",
    "\t\t\t\tcontinuations = getRankedContinuation(modelStore['typeModel'],cachedWord[::-1])\t\t\n",
    "\t\t\t\tlettersDF_local = letterDF.copy(deep=True)\t\n",
    "\n",
    "\t\t\t\tfor guess in lettersDF_local.merge(continuations).sort(['prob'], ascending=False)['word']:\n",
    "\t\t\t\t\tnumGuesses += 1\n",
    "\t\t\t\t\tif showStrings:\n",
    "\t\t\t\t\t\tprint(correctString + guess)\n",
    "\t\t\t\t\ttime.sleep(guessTime)\t\t\t\n",
    "\t\t\t\t\tif guess == letter:\n",
    "\t\t\t\t\t\tcorrectString = correctString+letter\n",
    "\t\t\t\t\t\tcachedWord.append(letter)\n",
    "\t\t\t\t\t\tbreak\n",
    "\telif model == 'fivephoneCharacterProb_token':\t\t\t\t\t\n",
    "\t\t#Guess each letter with probability according to phone transitions in the language (token based)\n",
    "\n",
    "\t\tletterDF = pandas.DataFrame(list('abcdefghijklmnopqrstuvwxyz'), columns=['word'])\n",
    "\n",
    "\t\tcorrectString = ''\n",
    "\t\tcachedWord = []\n",
    "\t\tfor letter in phraseToGuess:\t\n",
    "\t\t\tif letter in (' ','.'):\n",
    "\t\t\t\t#write spaces and punctuation immediately\n",
    "\t\t\t\tcorrectString = correctString + letter\t\t\n",
    "\t\t\t\tcachedWord = [] #restart the cached word\n",
    "\t\t\t\tcontinue\n",
    "\t\t\telse:\t\n",
    "\t\t\t\tcontinuations = getRankedContinuation(modelStore['tokenModel'],cachedWord[::-1])\t\t\n",
    "\t\t\t\tlettersDF_local = letterDF.copy(deep=True)\t\n",
    "\n",
    "\t\t\t\tfor guess in lettersDF_local.merge(continuations).sort(['prob'], ascending=False)['word']:\n",
    "\t\t\t\t\tnumGuesses += 1\n",
    "\t\t\t\t\tif showStrings:\n",
    "\t\t\t\t\t\tprint(correctString + guess)\n",
    "\t\t\t\t\ttime.sleep(guessTime)\t\t\t\n",
    "\t\t\t\t\tif guess == letter:\n",
    "\t\t\t\t\t\tcorrectString = correctString+letter\n",
    "\t\t\t\t\t\tcachedWord.append(letter)\n",
    "\t\t\t\t\t\tbreak\n",
    "\telif model == 'fivephoneCharacterProb_token_utterance':\t\t\t\t\t\t\n",
    "\t\t#Guess each letter with probability according to phone transitions in the language (token based, built on utterances)\n",
    "\t\tletterDF = pandas.DataFrame(list('abcdefghijklmnopqrstuvwxyz'), columns=['word'])\n",
    "\n",
    "\t\tcorrectString = ''\n",
    "\t\tcachedPrevious = []\n",
    "\t\tfor letter in phraseToGuess:\t\n",
    "\t\t\tif letter in (' ','.'):\n",
    "\t\t\t\t#write spaces and punctuation immediately\n",
    "\t\t\t\tcorrectString = correctString + letter\t\t\n",
    "\t\t\t\tcontinue\n",
    "\t\t\telse:\t\n",
    "\t\t\t\tcontinuations = getRankedContinuation(modelStore['tokenModel'],cachedPrevious[::-1])\t\t\n",
    "\t\t\t\tlettersDF_local = letterDF.copy(deep=True)\t\n",
    "\n",
    "\t\t\t\tfor guess in lettersDF_local.merge(continuations).sort(['prob'], ascending=False)['word']:\n",
    "\t\t\t\t\tnumGuesses += 1\n",
    "\t\t\t\t\tif showStrings:\n",
    "\t\t\t\t\t\tprint(correctString + guess)\n",
    "\t\t\t\t\ttime.sleep(guessTime)\t\t\t\n",
    "\t\t\t\t\tif guess == letter:\n",
    "\t\t\t\t\t\tcorrectString = correctString+letter\n",
    "\t\t\t\t\t\tcachedPrevious.append(letter)\n",
    "\n",
    "\t\t\t\t\t\tif len(cachedPrevious) > 4: #trim it\n",
    "\t\t\t\t\t\t\tcachedPrevious = cachedPrevious[-4:]\n",
    "\t\t\t\t\t\tbreak\n",
    "\telif model == 'lexical':\n",
    "\t\t#Guess each letter by marginalizing over phone probabilities for the next lexical item\n",
    "\t\tletterDF = pandas.DataFrame(list('abcdefghijklmnopqrstuvwxyz'), columns=['word'])\n",
    "\n",
    "\t\tcorrectString = ''\n",
    "\t\tcachedPreviousWords = []\n",
    "\t\tcachedPreviousPhones = []\n",
    "\t\tfor letter in phraseToGuess:\t\n",
    "\t\t\tif letter in (' ','.'):\n",
    "\t\t\t\t#write spaces and punctuation immediately\n",
    "\t\t\t\tcorrectString = correctString + letter\t\n",
    "\t\t\t\tcachedPreviousWords.append(''.join(cachedPreviousPhones))\n",
    "\t\t\t\tcachedPreviousPhones = []\n",
    "\t\t\t\tif len(cachedPreviousWords) > 2: #trim it to 2 words\n",
    "\t\t\t\t\tcachedPreviousWords = cachedPreviousWords[-2:]\n",
    "\t\t\telse:\t\n",
    "\t\t\t\tallContinuations = getRankedContinuation(modelStore['lexModel'],cachedPreviousWords[::-1])\n",
    "\t\t\t\t#filter\n",
    "\t\t\t\tcontinuations = allContinuations[allContinuations['word'].str.startswith(\"\".join(cachedPreviousPhones))]\n",
    "\t\t\t\tcontinuations['shortWord'] = [x[len(cachedPreviousPhones):] for x in continuations['word']]\n",
    "\t\t\t\tcontinuations['stringLength'] = [len(x) for x in continuations['shortWord']]\n",
    "\t\t\t\t#subset to items that have an initial letter\n",
    "\t\t\t\tcontinuations = continuations[continuations['stringLength'] > 0]\n",
    "\n",
    "\t\t\t\tcontinuations['initialLetter'] = [list(x)[0] for x in continuations['shortWord']]\n",
    "\t\t\t\tcontinuations['posProb'] = 10.**continuations['prob']\n",
    "\t\t\t\tinitLetter = continuations.groupby(by=['initialLetter'])['posProb'].agg([sum])\n",
    "\t\t\t\tinitLetter['sum'] = initLetter['sum'] / sum(initLetter['sum'])\n",
    "\t\t\t\tinitLetter['word'] = initLetter.index\n",
    "\t\t\t\t\t\t\t\t\n",
    "\t\t\t\tlettersDF_local = letterDF.copy(deep=True)\t\n",
    "\t\t\t\tfor guess in lettersDF_local.merge(initLetter).sort(['sum'], ascending=False)['word']:\n",
    "\t\t\t\t\tnumGuesses += 1\n",
    "\t\t\t\t\tif showStrings:\n",
    "\t\t\t\t\t\tprint(correctString + guess)\n",
    "\t\t\t\t\ttime.sleep(guessTime)\t\t\t\n",
    "\t\t\t\t\tif guess == letter:\n",
    "\t\t\t\t\t\tcorrectString = correctString+letter\n",
    "\t\t\t\t\t\tcachedPreviousPhones.append(letter)\t\t\t\t\t\n",
    "\t\t\t\t\t\tbreak\n",
    "\treturn({'model':model, 'numGuesss':numGuesses}) "
   ]
  },
  {
   "cell_type": "code",
   "execution_count": 5,
   "metadata": {
    "collapsed": false
   },
   "outputs": [],
   "source": [
    "target = (\"there is no reverse on a motorcycle\") \n",
    "           #\"pelicans are the least trustworthy of all the birds that fly in the sky\"\n",
    "           #\"kale is a nutritious addition to any meal\""
   ]
  },
  {
   "cell_type": "markdown",
   "metadata": {},
   "source": [
    "# Single Core"
   ]
  },
  {
   "cell_type": "code",
   "execution_count": 13,
   "metadata": {
    "collapsed": false
   },
   "outputs": [
    {
     "name": "stdout",
     "output_type": "stream",
     "text": [
      "{'model': 'uniformCharacterProb', 'numGuesss': 384}\n",
      "{'model': 'uniformCharacterProb', 'numGuesss': 338}\n",
      "{'model': 'fivephoneCharacterProb', 'numGuesss': 116}\n",
      "{'model': 'fivephoneCharacterProb_token_utterance', 'numGuesss': 136}\n",
      "{'model': 'lexical', 'numGuesss': 75}\n"
     ]
    }
   ],
   "source": [
    "#\n",
    "print shannonGame(target, modelStore, 'uniformCharacterProb', guessTime=0, showStrings=False)\n",
    "print shannonGame(target, modelStore, 'uniformCharacterProb', guessTime=0, showStrings=False)\n",
    "print shannonGame(target, modelStore, 'fivephoneCharacterProb', guessTime=0, showStrings=False)\n",
    "print shannonGame(target, modelStore, 'fivephoneCharacterProb_token_utterance', guessTime=0, showStrings=False)\n",
    "print shannonGame(target, modelStore, 'lexical', guessTime=0, showStrings=False)\n"
   ]
  }
 ],
 "metadata": {
  "kernelspec": {
   "display_name": "Python 2",
   "language": "python",
   "name": "python2"
  },
  "language_info": {
   "codemirror_mode": {
    "name": "ipython",
    "version": 2
   },
   "file_extension": ".py",
   "mimetype": "text/x-python",
   "name": "python",
   "nbconvert_exporter": "python",
   "pygments_lexer": "ipython2",
   "version": "2.7.6"
  }
 },
 "nbformat": 4,
 "nbformat_minor": 0
}
